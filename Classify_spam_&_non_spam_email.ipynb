{
  "cells": [
    {
      "cell_type": "code",
      "execution_count": null,
      "metadata": {
        "id": "IyJDw2eZLiWw"
      },
      "outputs": [],
      "source": [
        "import pandas as pd\n",
        "import numpy as np\n",
        "import spacy\n",
        "import re"
      ]
    },
    {
      "cell_type": "code",
      "execution_count": null,
      "metadata": {
        "id": "G33izp26LiZn"
      },
      "outputs": [],
      "source": [
        "emails=pd.read_csv('/content/mail_data.csv')"
      ]
    },
    {
      "cell_type": "code",
      "execution_count": null,
      "metadata": {
        "id": "swBvk56QZ2Xa"
      },
      "outputs": [],
      "source": [
        "nlp = spacy.load(\"en_core_web_sm\") "
      ]
    },
    {
      "cell_type": "code",
      "execution_count": null,
      "metadata": {
        "id": "_VBKJNY1NF7m"
      },
      "outputs": [],
      "source": [
        "# remove Duplicates\n",
        "emails.drop_duplicates(inplace=True)"
      ]
    },
    {
      "cell_type": "code",
      "execution_count": null,
      "metadata": {
        "id": "-fLVOcphS5Wn"
      },
      "outputs": [],
      "source": [
        "def preprocessing(message):\n",
        "    text=re.sub(\"(http|https)\\S+\",\"\",message)\n",
        "    doc= nlp(text)\n",
        "    newText=[token.lemma_.lower() for token in doc if not ( token.is_punct or token.is_stop or token.is_digit)]\n",
        "    return ' '.join(newText)"
      ]
    },
    {
      "cell_type": "code",
      "execution_count": null,
      "metadata": {
        "collapsed": true,
        "id": "aZyJI41eS5UH"
      },
      "outputs": [],
      "source": [
        "emails['Message']=emails['Message'].apply(preprocessing)"
      ]
    },
    {
      "cell_type": "code",
      "execution_count": null,
      "metadata": {
        "id": "fxsNtJGeovYk"
      },
      "outputs": [],
      "source": [
        "from sklearn.feature_extraction.text import TfidfVectorizer"
      ]
    },
    {
      "cell_type": "code",
      "execution_count": null,
      "metadata": {
        "id": "WaHDVoYrkorS"
      },
      "outputs": [],
      "source": [
        "X=emails['Message']\n",
        "Y=emails['Category']"
      ]
    },
    {
      "cell_type": "code",
      "execution_count": null,
      "metadata": {
        "id": "ijT-ID33orPj"
      },
      "outputs": [],
      "source": [
        "vectorizer = TfidfVectorizer(min_df=1)\n",
        "vectorizer.fit(X)"
      ]
    },
    {
      "cell_type": "code",
      "execution_count": null,
      "metadata": {
        "id": "ZCBsj0HXnhG7"
      },
      "outputs": [],
      "source": [
        "emails['Category'].replace({'spam':0,'ham':1},inplace=True)"
      ]
    },
    {
      "cell_type": "code",
      "execution_count": null,
      "metadata": {
        "id": "QwK0_n2Ukoof"
      },
      "outputs": [],
      "source": [
        "from sklearn.metrics import f1_score , confusion_matrix\n",
        "from sklearn.model_selection import train_test_split\n",
        "from sklearn.naive_bayes import MultinomialNB\n",
        "import matplotlib.pyplot as plt\n",
        "import seaborn as sns"
      ]
    },
    {
      "cell_type": "code",
      "execution_count": null,
      "metadata": {
        "id": "HANLzU_Nkotf"
      },
      "outputs": [],
      "source": [
        "X_train, X_test , Y_train , y_test = train_test_split(X,Y,stratify=Y,random_state=10,test_size=0.2)"
      ]
    },
    {
      "cell_type": "code",
      "execution_count": null,
      "metadata": {
        "id": "feknwK39oM0K"
      },
      "outputs": [],
      "source": [
        "classifier=MultinomialNB()"
      ]
    },
    {
      "cell_type": "code",
      "execution_count": null,
      "metadata": {
        "id": "MpGYjakmoMv7"
      },
      "outputs": [],
      "source": [
        "X_train_enCoding=vectorizer.transform(X_train)\n",
        "classifier.fit(X_train_enCoding,Y_train)"
      ]
    },
    {
      "cell_type": "code",
      "execution_count": null,
      "metadata": {
        "id": "WPxTg2cNpXzZ"
      },
      "outputs": [],
      "source": [
        "X_test_enCoding=vectorizer.transform(X_test)\n",
        "Y_predaction=classifier.predict(X_test_enCoding)"
      ]
    },
    {
      "cell_type": "code",
      "execution_count": null,
      "metadata": {
        "id": "vvf63VG0pXry"
      },
      "outputs": [],
      "source": [
        "f1_score(y_test,Y_predaction)"
      ]
    },
    {
      "cell_type": "code",
      "execution_count": null,
      "metadata": {
        "id": "M03w9GnyrC_Q"
      },
      "outputs": [],
      "source": [
        "cm = confusion_matrix(y_test, Y_predaction, labels=[1, 0])"
      ]
    },
    {
      "cell_type": "code",
      "execution_count": null,
      "metadata": {
        "id": "Xfp2-AjvqvbQ"
      },
      "outputs": [],
      "source": [
        "plt.figure(figsize=(7, 5))\n",
        "sns.heatmap(cm, annot=True, fmt='d', cmap='Blues', xticklabels=['spam', 'ham'], yticklabels=['spam', 'ham'])\n",
        "plt.xlabel('predation')\n",
        "plt.ylabel('true label')\n",
        "plt.show()"
      ]
    },
    {
      "cell_type": "code",
      "execution_count": null,
      "metadata": {
        "id": "LY1QEzE1qvVp"
      },
      "outputs": [],
      "source": [
        "# classifaction system\n",
        "# Spam --> 0\n",
        "# Ham  --> 1\n",
        "\n",
        "text=emails['Message'][10]\n",
        "text=preprocessing(text)\n",
        "text=vectorizer.transform([text])\n",
        "predactValue=classifier.predict(text)\n",
        "if predactValue[0]==1:\n",
        "   print('this is Ham Email')\n",
        "else :\n",
        "  print('this is Spam Email')\n"
      ]
    }
  ],
  "metadata": {
    "colab": {
      "provenance": []
    },
    "kernelspec": {
      "display_name": "Python 3",
      "name": "python3"
    },
    "language_info": {
      "name": "python"
    }
  },
  "nbformat": 4,
  "nbformat_minor": 0
}
